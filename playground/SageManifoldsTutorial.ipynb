{
 "cells": [
  {
   "cell_type": "markdown",
   "id": "2f47ddd5",
   "metadata": {},
   "source": [
    "# [Manifold tutorial](https://nbviewer.org/github/sagemanifolds/SageManifolds/blob/master/Notebooks/SM_tutorial.ipynb) from SageManifolds Tutorial"
   ]
  },
  {
   "cell_type": "code",
   "execution_count": 2,
   "id": "9638a97e",
   "metadata": {},
   "outputs": [
    {
     "name": "stdout",
     "output_type": "stream",
     "text": [
      "/home/topolo/TQFT/sage\n"
     ]
    }
   ],
   "source": [
    "version()\n",
    "print(SAGE_ROOT)"
   ]
  },
  {
   "cell_type": "markdown",
   "id": "2499d615",
   "metadata": {},
   "source": [
    "Set up the notebook to display mathematical objects using LaTeX rendering."
   ]
  },
  {
   "cell_type": "code",
   "execution_count": 3,
   "id": "89ffcd66",
   "metadata": {},
   "outputs": [],
   "source": [
    "%display latex"
   ]
  },
  {
   "cell_type": "markdown",
   "id": "6728a287",
   "metadata": {},
   "source": [
    "## Defining a manifold\n",
    "Define a differentiable manifold of dimension 3 over $\\mathbb{R}$."
   ]
  },
  {
   "cell_type": "code",
   "execution_count": 4,
   "id": "6ba2b3c6",
   "metadata": {},
   "outputs": [],
   "source": [
    "M = Manifold(3, 'M', latex_name=r'\\mathcal{M}', start_index=1)"
   ]
  },
  {
   "cell_type": "code",
   "execution_count": 5,
   "id": "c759d879",
   "metadata": {},
   "outputs": [
    {
     "name": "stdout",
     "output_type": "stream",
     "text": [
      "3-dimensional differentiable manifold M\n",
      "<class 'sage.manifolds.differentiable.manifold.DifferentiableManifold_with_category'>\n"
     ]
    },
    {
     "data": {
      "text/html": [
       "<html>\\(\\displaystyle \\mathcal{M}\\)</html>"
      ],
      "text/latex": [
       "$\\displaystyle \\mathcal{M}$"
      ],
      "text/plain": [
       "3-dimensional differentiable manifold M"
      ]
     },
     "execution_count": 5,
     "metadata": {},
     "output_type": "execute_result"
    }
   ],
   "source": [
    "print(M)\n",
    "print(type(M))\n",
    "M"
   ]
  },
  {
   "cell_type": "markdown",
   "id": "f7f50715",
   "metadata": {},
   "source": [
    "We can ask for the category of M and see that it's the category of smooth manifolds over $\\mathbb{R}$."
   ]
  },
  {
   "cell_type": "code",
   "execution_count": 6,
   "id": "db1ef9f9",
   "metadata": {},
   "outputs": [
    {
     "data": {
      "text/html": [
       "<html>\\(\\displaystyle \\newcommand{\\Bold}[1]{\\mathbf{#1}}\\mathbf{Smooth}_{\\Bold{R}}\\)</html>"
      ],
      "text/latex": [
       "$\\displaystyle \\newcommand{\\Bold}[1]{\\mathbf{#1}}\\mathbf{Smooth}_{\\Bold{R}}$"
      ],
      "text/plain": [
       "Category of smooth manifolds over Real Field with 53 bits of precision"
      ]
     },
     "execution_count": 6,
     "metadata": {},
     "output_type": "execute_result"
    }
   ],
   "source": [
    "category(M)"
   ]
  },
  {
   "cell_type": "code",
   "execution_count": null,
   "id": "0f76169e",
   "metadata": {},
   "outputs": [],
   "source": []
  }
 ],
 "metadata": {
  "kernelspec": {
   "display_name": "SageMath 9.7",
   "language": "sage",
   "name": "sagemath"
  },
  "language_info": {
   "codemirror_mode": {
    "name": "ipython",
    "version": 3
   },
   "file_extension": ".py",
   "mimetype": "text/x-python",
   "name": "python",
   "nbconvert_exporter": "python",
   "pygments_lexer": "ipython3",
   "version": "3.10.2"
  }
 },
 "nbformat": 4,
 "nbformat_minor": 5
}
