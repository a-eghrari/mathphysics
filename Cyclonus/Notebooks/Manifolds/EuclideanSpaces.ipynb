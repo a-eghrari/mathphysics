{
 "cells": [
  {
   "cell_type": "markdown",
   "id": "6c200da0",
   "metadata": {},
   "source": [
    "## Setup Jupyter Notebook"
   ]
  },
  {
   "cell_type": "code",
   "execution_count": 1,
   "id": "8a78a55a",
   "metadata": {},
   "outputs": [],
   "source": [
    "from pathlib import Path"
   ]
  },
  {
   "cell_type": "code",
   "execution_count": 2,
   "id": "5504dbb1",
   "metadata": {},
   "outputs": [],
   "source": [
    "notebook_directory_parent = Path.cwd().resolve().parent.parent\n",
    "if str(notebook_directory_parent) not in sys.path:\n",
    "    sys.path.append(str(notebook_directory_parent))"
   ]
  },
  {
   "cell_type": "code",
   "execution_count": 3,
   "id": "4230ef8d",
   "metadata": {},
   "outputs": [],
   "source": [
    "from Cyclonus.Manifolds.EuclideanSpaces.R1 import R1\n",
    "from Cyclonus.Manifolds.EuclideanSpaces.R2 import R2"
   ]
  },
  {
   "cell_type": "markdown",
   "id": "dfe4395e",
   "metadata": {},
   "source": [
    "# $\\mathbb{R}^1$"
   ]
  },
  {
   "cell_type": "code",
   "execution_count": 6,
   "id": "beb1541f",
   "metadata": {},
   "outputs": [
    {
     "name": "stdout",
     "output_type": "stream",
     "text": [
      "1-dimensional differentiable manifold R1\n",
      "Chart (R1, (x,))\n"
     ]
    }
   ],
   "source": [
    "r1 = R1()\n",
    "print(r1.M)\n",
    "print(r1.cartesian_chart)"
   ]
  },
  {
   "cell_type": "code",
   "execution_count": 5,
   "id": "1a1ce934",
   "metadata": {},
   "outputs": [
    {
     "data": {
      "text/plain": [
       "1-dimensional differentiable manifold R1"
      ]
     },
     "execution_count": 5,
     "metadata": {},
     "output_type": "execute_result"
    }
   ],
   "source": [
    "r1.M"
   ]
  },
  {
   "cell_type": "code",
   "execution_count": null,
   "id": "c4a9391b",
   "metadata": {},
   "outputs": [],
   "source": []
  }
 ],
 "metadata": {
  "kernelspec": {
   "display_name": "SageMath 9.7",
   "language": "sage",
   "name": "sagemath"
  },
  "language_info": {
   "codemirror_mode": {
    "name": "ipython",
    "version": 3
   },
   "file_extension": ".py",
   "mimetype": "text/x-python",
   "name": "python",
   "nbconvert_exporter": "python",
   "pygments_lexer": "ipython3",
   "version": "3.10.2"
  }
 },
 "nbformat": 4,
 "nbformat_minor": 5
}
