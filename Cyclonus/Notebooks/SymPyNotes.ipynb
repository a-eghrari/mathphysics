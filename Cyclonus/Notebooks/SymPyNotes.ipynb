{
 "cells": [
  {
   "cell_type": "code",
   "execution_count": 1,
   "id": "d5581ee7",
   "metadata": {},
   "outputs": [
    {
     "name": "stdout",
     "output_type": "stream",
     "text": [
      "1.10.1\n"
     ]
    }
   ],
   "source": [
    "import sympy\n",
    "print(sympy.__version__)"
   ]
  },
  {
   "cell_type": "code",
   "execution_count": 21,
   "id": "ad1b125d",
   "metadata": {},
   "outputs": [
    {
     "name": "stdout",
     "output_type": "stream",
     "text": [
      "y\n",
      "f\n"
     ]
    }
   ],
   "source": [
    "a = sympy.Symbol('a')\n",
    "x = sympy.Symbol('x')\n",
    "h = sympy.Symbol('h')\n",
    "t = sympy.Symbol('t')\n",
    "y = sympy.Function('y')(x)\n",
    "f = sympy.Function('f')(x, y)\n",
    "print(type(y))\n",
    "print(type(f))"
   ]
  },
  {
   "cell_type": "markdown",
   "id": "a93e0368",
   "metadata": {},
   "source": [
    "$y' = \\frac{dy}{dx}$, with $y = y(x)$"
   ]
  },
  {
   "cell_type": "code",
   "execution_count": 8,
   "id": "16d40fde",
   "metadata": {},
   "outputs": [
    {
     "name": "stdout",
     "output_type": "stream",
     "text": [
      "Derivative(y(x), x)\n"
     ]
    }
   ],
   "source": [
    "yprime = sympy.diff(y, x)\n",
    "print(yprime)"
   ]
  },
  {
   "cell_type": "code",
   "execution_count": 10,
   "id": "ca4bed36",
   "metadata": {},
   "outputs": [
    {
     "name": "stdout",
     "output_type": "stream",
     "text": [
      "y(h) + (-h + x)*Subs(Derivative(y(_xi_1), _xi_1), _xi_1, h) + (-h + x)**2*Subs(Derivative(y(_xi_1), (_xi_1, 2)), _xi_1, h)/2 + (-h + x)**3*Subs(Derivative(y(_xi_1), (_xi_1, 3)), _xi_1, h)/6 + O((-h + x)**4, (x, h))\n",
      "                                              ⎛  2        ⎞│                 ⎛\n",
      "                                            2 ⎜ d         ⎟│               3 ⎜\n",
      "                                    (-h + x) ⋅⎜────(y(ξ₁))⎟│       (-h + x) ⋅⎜\n",
      "                                              ⎜   2       ⎟│                 ⎜\n",
      "                ⎛ d        ⎞│                 ⎝dξ₁        ⎠│ξ₁=h             ⎝\n",
      "y(h) + (-h + x)⋅⎜───(y(ξ₁))⎟│     + ──────────────────────────── + ───────────\n",
      "                ⎝dξ₁       ⎠│ξ₁=h                2                            \n",
      "\n",
      "  3        ⎞│                          \n",
      " d         ⎟│                          \n",
      "────(y(ξ₁))⎟│                          \n",
      "   3       ⎟│                          \n",
      "dξ₁        ⎠│ξ₁=h    ⎛        4       ⎞\n",
      "───────────────── + O⎝(-h + x) ; x → h⎠\n",
      "  6                                    \n"
     ]
    }
   ],
   "source": [
    "y_taylor_series_4 = y.series(x, x0=h, n=4)\n",
    "print(y_taylor_series_4)\n",
    "sympy.pprint(y_taylor_series_4)"
   ]
  },
  {
   "cell_type": "code",
   "execution_count": 28,
   "id": "e4afb896",
   "metadata": {},
   "outputs": [
    {
     "name": "stdout",
     "output_type": "stream",
     "text": [
      "y(a) + (-a + x)*Subs(Derivative(y(_xi_1), _xi_1), _xi_1, a) + (-a + x)**2*Subs(Derivative(y(_xi_1), (_xi_1, 2)), _xi_1, a)/2 + O((-a + x)**3, (x, a))\n",
      "                                              ⎛  2        ⎞│                  \n",
      "                                            2 ⎜ d         ⎟│                  \n",
      "                                    (-a + x) ⋅⎜────(y(ξ₁))⎟│                  \n",
      "                                              ⎜   2       ⎟│                  \n",
      "                ⎛ d        ⎞│                 ⎝dξ₁        ⎠│ξ₁=a    ⎛        3\n",
      "y(a) + (-a + x)⋅⎜───(y(ξ₁))⎟│     + ──────────────────────────── + O⎝(-a + x) \n",
      "                ⎝dξ₁       ⎠│ξ₁=a                2                            \n",
      "\n",
      "        \n",
      "        \n",
      "        \n",
      "        \n",
      "       ⎞\n",
      "; x → a⎠\n",
      "        \n"
     ]
    }
   ],
   "source": [
    "y_taylor_series_3 = y.series(x, x0=a, n=3).subs({sympy.Derivative(y, x, a): f})\n",
    "print(y_taylor_series_3)\n",
    "sympy.pprint(y_taylor_series_3)"
   ]
  },
  {
   "cell_type": "code",
   "execution_count": 31,
   "id": "0cf70a9b",
   "metadata": {},
   "outputs": [
    {
     "name": "stdout",
     "output_type": "stream",
     "text": [
      "y(0) + h*Subs(Derivative(y(xi), xi), xi, 0) + h**2*Subs(Derivative(y(xi), (xi, 2)), xi, 0)/2 + O(h**3)\n",
      "                             ⎛  2      ⎞│           \n",
      "                           2 ⎜ d       ⎟│           \n",
      "                          h ⋅⎜───(y(ξ))⎟│           \n",
      "                             ⎜  2      ⎟│           \n",
      "         ⎛d       ⎞│         ⎝dξ       ⎠│ξ=0    ⎛ 3⎞\n",
      "y(0) + h⋅⎜──(y(ξ))⎟│    + ────────────────── + O⎝h ⎠\n",
      "         ⎝dξ      ⎠│ξ=0           2                 \n"
     ]
    }
   ],
   "source": [
    "y_taylor_series_2 = y.series(x, x0=0, n=3).subs({sympy.diff(y, x, 0): f, x: h})\n",
    "print(y_taylor_series_2)\n",
    "sympy.pprint(y_taylor_series_2)"
   ]
  },
  {
   "cell_type": "code",
   "execution_count": null,
   "id": "9a244f6b",
   "metadata": {},
   "outputs": [],
   "source": []
  }
 ],
 "metadata": {
  "kernelspec": {
   "display_name": "Python 3 (ipykernel)",
   "language": "python",
   "name": "python3"
  },
  "language_info": {
   "codemirror_mode": {
    "name": "ipython",
    "version": 3
   },
   "file_extension": ".py",
   "mimetype": "text/x-python",
   "name": "python",
   "nbconvert_exporter": "python",
   "pygments_lexer": "ipython3",
   "version": "3.10.2"
  }
 },
 "nbformat": 4,
 "nbformat_minor": 5
}
