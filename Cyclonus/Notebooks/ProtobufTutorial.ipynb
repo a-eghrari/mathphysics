{
 "cells": [
  {
   "cell_type": "markdown",
   "metadata": {},
   "source": [
    "# Setup Jupyter Notebook"
   ]
  },
  {
   "cell_type": "code",
   "execution_count": 1,
   "metadata": {},
   "outputs": [],
   "source": [
    "from pathlib import Path\n",
    "import sys\n",
    "\n",
    "# Keep in mind that the number of \".parent\" that we call was dependent upon the location of this notebook.\n",
    "notebook_directory_parent = Path.cwd().resolve().parent\n",
    "if str(notebook_directory_parent) not in sys.path:\n",
    "    sys.path.append(str(notebook_directory_parent))"
   ]
  },
  {
   "cell_type": "code",
   "execution_count": 2,
   "metadata": {},
   "outputs": [],
   "source": [
    "from Cyclonus.ProtoFiles.PhysicalConstants import Fundamental_pb2 as Fundamental_pb2\n",
    "# To debug importing issues, consider printing the .__path__ member for where it's importing from.\n",
    "# print(Fundamental_pb2.__path__)\n",
    "\n",
    "from Cyclonus.Utilities.ReadWriteProtoFiles import read_proto, write_proto"
   ]
  },
  {
   "cell_type": "code",
   "execution_count": 3,
   "metadata": {},
   "outputs": [],
   "source": [
    "fundamental_constants = Fundamental_pb2.FundamentalConstants()"
   ]
  },
  {
   "cell_type": "code",
   "execution_count": 4,
   "metadata": {},
   "outputs": [],
   "source": [
    "constant = fundamental_constants.constants.add()"
   ]
  },
  {
   "cell_type": "code",
   "execution_count": 5,
   "metadata": {},
   "outputs": [],
   "source": [
    "constant.name = \"Newtonian constant of gravitation\"\n",
    "constant.symbol = \"G\"\n",
    "constant.units = \"m3 kg-1 s-2\"\n",
    "constant.value = 6.67430e-11\n",
    "constant.uncertainty = 0.00015e-11"
   ]
  },
  {
   "cell_type": "code",
   "execution_count": 6,
   "metadata": {},
   "outputs": [
    {
     "name": "stdout",
     "output_type": "stream",
     "text": [
      "b'\\n!Newtonian constant of gravitation\\x15\\xf8\\xc4\\x92.\\x1d;,\\xd8&\"\\x0bm3 kg-1 s-2*\\x01G'\n",
      "b'\\n=\\n!Newtonian constant of gravitation\\x15\\xf8\\xc4\\x92.\\x1d;,\\xd8&\"\\x0bm3 kg-1 s-2*\\x01G'\n"
     ]
    }
   ],
   "source": [
    "print(constant.SerializeToString())\n",
    "print(fundamental_constants.SerializeToString())"
   ]
  },
  {
   "cell_type": "markdown",
   "metadata": {},
   "source": [
    "# Read and Write to ProtoFile"
   ]
  },
  {
   "cell_type": "code",
   "execution_count": 7,
   "metadata": {},
   "outputs": [
    {
     "name": "stdout",
     "output_type": "stream",
     "text": [
      "True\n",
      "/home/topolo/TQFT/mathphysics/Cyclonus/Cyclonus/ProtoFiles/PhysicalConstants\n"
     ]
    }
   ],
   "source": [
    "write_file_path = Path.cwd().resolve().parent / 'Cyclonus/ProtoFiles/PhysicalConstants'\n",
    "print(write_file_path.exists())\n",
    "print(write_file_path)"
   ]
  },
  {
   "cell_type": "code",
   "execution_count": 8,
   "metadata": {},
   "outputs": [],
   "source": [
    "write_proto(write_file_path / 'Fundamental.txt', fundamental_constants)"
   ]
  },
  {
   "cell_type": "code",
   "execution_count": 9,
   "metadata": {},
   "outputs": [
    {
     "name": "stdout",
     "output_type": "stream",
     "text": [
      "[]\n"
     ]
    }
   ],
   "source": [
    "fundamental_constants2 = Fundamental_pb2.FundamentalConstants()\n",
    "print(fundamental_constants2.constants)"
   ]
  },
  {
   "cell_type": "code",
   "execution_count": 10,
   "metadata": {},
   "outputs": [],
   "source": [
    "read_proto(write_file_path / 'Fundamental.txt', fundamental_constants2)"
   ]
  },
  {
   "cell_type": "code",
   "execution_count": 11,
   "metadata": {},
   "outputs": [
    {
     "name": "stdout",
     "output_type": "stream",
     "text": [
      "[name: \"Newtonian constant of gravitation\"\n",
      "value: 6.6743e-11\n",
      "uncertainty: 1.5e-15\n",
      "units: \"m3 kg-1 s-2\"\n",
      "symbol: \"G\"\n",
      "]\n"
     ]
    }
   ],
   "source": [
    "print(fundamental_constants2.constants)"
   ]
  },
  {
   "cell_type": "markdown",
   "metadata": {},
   "source": []
  }
 ],
 "metadata": {
  "interpreter": {
   "hash": "45f0c69603d9b6ae3387400f54c4c338a4546ecc38a38f01ff7ee118e24c6b08"
  },
  "kernelspec": {
   "display_name": "Python_venv",
   "language": "python",
   "name": "venv"
  },
  "language_info": {
   "codemirror_mode": {
    "name": "ipython",
    "version": 3
   },
   "file_extension": ".py",
   "mimetype": "text/x-python",
   "name": "python",
   "nbconvert_exporter": "python",
   "pygments_lexer": "ipython3",
   "version": "3.10.2"
  }
 },
 "nbformat": 4,
 "nbformat_minor": 2
}
