{
 "cells": [
  {
   "cell_type": "markdown",
   "metadata": {},
   "source": [
    "# Setup Jupyter Notebook"
   ]
  },
  {
   "cell_type": "code",
   "execution_count": 1,
   "metadata": {},
   "outputs": [],
   "source": [
    "from pathlib import Path\n",
    "import sys\n",
    "\n",
    "notebook_directory_parent = Path.cwd().resolve().parent\n",
    "if str(notebook_directory_parent) not in sys.path:\n",
    "    sys.path.append(str(notebook_directory_parent))"
   ]
  },
  {
   "cell_type": "code",
   "execution_count": 2,
   "metadata": {},
   "outputs": [
    {
     "ename": "ModuleNotFoundError",
     "evalue": "No module named 'Cyclonus.ProtoFiles.PhysicalConstants.Fundamental_pb2'",
     "output_type": "error",
     "traceback": [
      "\u001b[0;31m---------------------------------------------------------------------------\u001b[0m",
      "\u001b[0;31mModuleNotFoundError\u001b[0m                       Traceback (most recent call last)",
      "\u001b[1;32m/home/ernest/TQFT/mathphysics/Cyclonus/Notebooks/ProtobufTutorial.ipynb Cell 3'\u001b[0m in \u001b[0;36m<cell line: 1>\u001b[0;34m()\u001b[0m\n\u001b[0;32m----> <a href='vscode-notebook-cell://wsl%2Bubuntu/home/ernest/TQFT/mathphysics/Cyclonus/Notebooks/ProtobufTutorial.ipynb#ch0000002vscode-remote?line=0'>1</a>\u001b[0m \u001b[39mfrom\u001b[39;00m \u001b[39mCyclonus\u001b[39;00m\u001b[39m.\u001b[39;00m\u001b[39mProtoFiles\u001b[39;00m\u001b[39m.\u001b[39;00m\u001b[39mPhysicalConstants\u001b[39;00m\u001b[39m.\u001b[39;00m\u001b[39mFundamental_pb2\u001b[39;00m \u001b[39mimport\u001b[39;00m Fundamental_pb2 \u001b[39mas\u001b[39;00m Fundamental_pb2\n",
      "\u001b[0;31mModuleNotFoundError\u001b[0m: No module named 'Cyclonus.ProtoFiles.PhysicalConstants.Fundamental_pb2'"
     ]
    }
   ],
   "source": [
    "from Cyclonus.ProtoFiles.PhysicalConstants.Fundamental_pb2 import Fundamental_pb2 as Fundamental_pb2"
   ]
  },
  {
   "cell_type": "code",
   "execution_count": 8,
   "metadata": {},
   "outputs": [
    {
     "ename": "ModuleNotFoundError",
     "evalue": "No module named 'Cyclonus.ProtoFiles.PhysicalConstants.Fundamental_pb2'",
     "output_type": "error",
     "traceback": [
      "\u001b[0;31m---------------------------------------------------------------------------\u001b[0m",
      "\u001b[0;31mModuleNotFoundError\u001b[0m                       Traceback (most recent call last)",
      "\u001b[1;32m/home/ernest/TQFT/mathphysics/Cyclonus/Notebooks/ProtobufTutorial.ipynb Cell 4'\u001b[0m in \u001b[0;36m<cell line: 1>\u001b[0;34m()\u001b[0m\n\u001b[0;32m----> <a href='vscode-notebook-cell://wsl%2Bubuntu/home/ernest/TQFT/mathphysics/Cyclonus/Notebooks/ProtobufTutorial.ipynb#ch0000006vscode-remote?line=0'>1</a>\u001b[0m \u001b[39mimport\u001b[39;00m \u001b[39mCyclonus\u001b[39;00m\u001b[39m.\u001b[39;00m\u001b[39mProtoFiles\u001b[39;00m\u001b[39m.\u001b[39;00m\u001b[39mPhysicalConstants\u001b[39;00m\u001b[39m.\u001b[39;00m\u001b[39mFundamental_pb2\u001b[39;00m\n\u001b[1;32m      <a href='vscode-notebook-cell://wsl%2Bubuntu/home/ernest/TQFT/mathphysics/Cyclonus/Notebooks/ProtobufTutorial.ipynb#ch0000006vscode-remote?line=1'>2</a>\u001b[0m \u001b[39mprint\u001b[39m(\u001b[39mdir\u001b[39m(PhysicalConstants))\n",
      "\u001b[0;31mModuleNotFoundError\u001b[0m: No module named 'Cyclonus.ProtoFiles.PhysicalConstants.Fundamental_pb2'"
     ]
    }
   ],
   "source": [
    "import Cyclonus.ProtoFiles.PhysicalConstants.Fundamental_pb2\n",
    "print(dir(PhysicalConstants))"
   ]
  },
  {
   "cell_type": "code",
   "execution_count": 3,
   "metadata": {},
   "outputs": [
    {
     "ename": "ModuleNotFoundError",
     "evalue": "No module named 'Cyclonus.Manifolds'",
     "output_type": "error",
     "traceback": [
      "\u001b[0;31m---------------------------------------------------------------------------\u001b[0m",
      "\u001b[0;31mModuleNotFoundError\u001b[0m                       Traceback (most recent call last)",
      "\u001b[1;32m/home/ernest/TQFT/mathphysics/Cyclonus/Notebooks/ProtobufTutorial.ipynb Cell 5'\u001b[0m in \u001b[0;36m<cell line: 1>\u001b[0;34m()\u001b[0m\n\u001b[0;32m----> <a href='vscode-notebook-cell://wsl%2Bubuntu/home/ernest/TQFT/mathphysics/Cyclonus/Notebooks/ProtobufTutorial.ipynb#ch0000004vscode-remote?line=0'>1</a>\u001b[0m \u001b[39mfrom\u001b[39;00m \u001b[39mCyclonus\u001b[39;00m\u001b[39m.\u001b[39;00m\u001b[39mManifolds\u001b[39;00m\u001b[39m.\u001b[39;00m\u001b[39mLieAlgebras\u001b[39;00m\u001b[39m.\u001b[39;00m\u001b[39mso3\u001b[39;00m \u001b[39mimport\u001b[39;00m so3\n",
      "\u001b[0;31mModuleNotFoundError\u001b[0m: No module named 'Cyclonus.Manifolds'"
     ]
    }
   ],
   "source": [
    "from Cyclonus.Manifolds.LieAlgebras.so3 import so3"
   ]
  },
  {
   "cell_type": "code",
   "execution_count": null,
   "metadata": {},
   "outputs": [],
   "source": []
  }
 ],
 "metadata": {
  "interpreter": {
   "hash": "45f0c69603d9b6ae3387400f54c4c338a4546ecc38a38f01ff7ee118e24c6b08"
  },
  "kernelspec": {
   "display_name": "Python 3.8.10 ('venv': venv)",
   "language": "python",
   "name": "python3"
  },
  "language_info": {
   "codemirror_mode": {
    "name": "ipython",
    "version": 3
   },
   "file_extension": ".py",
   "mimetype": "text/x-python",
   "name": "python",
   "nbconvert_exporter": "python",
   "pygments_lexer": "ipython3",
   "version": "3.8.10"
  },
  "orig_nbformat": 4
 },
 "nbformat": 4,
 "nbformat_minor": 2
}
