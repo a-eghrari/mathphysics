{
 "cells": [
  {
   "cell_type": "markdown",
   "metadata": {},
   "source": [
    "Sage Tutorial\n",
    "\n",
    "cf. https://doc.sagemath.org/html/en/tutorial/introduction.html"
   ]
  },
  {
   "cell_type": "code",
   "execution_count": 1,
   "metadata": {},
   "outputs": [
    {
     "data": {
      "text/plain": [
       "4"
      ]
     },
     "execution_count": 1,
     "metadata": {},
     "output_type": "execute_result"
    }
   ],
   "source": [
    "2 + 2"
   ]
  },
  {
   "cell_type": "code",
   "execution_count": 2,
   "metadata": {},
   "outputs": [
    {
     "data": {
      "text/plain": [
       "-1 * 3^2 * 223"
      ]
     },
     "execution_count": 2,
     "metadata": {},
     "output_type": "execute_result"
    }
   ],
   "source": [
    "factor(-2007)"
   ]
  },
  {
   "cell_type": "code",
   "execution_count": 3,
   "metadata": {},
   "outputs": [
    {
     "data": {
      "text/plain": [
       "[ 0  1  2  3]\n",
       "[ 4  5  6  7]\n",
       "[ 8  9 10 11]\n",
       "[12 13 14 15]"
      ]
     },
     "execution_count": 3,
     "metadata": {},
     "output_type": "execute_result"
    }
   ],
   "source": [
    "A = matrix(4, 4, range(16)); A"
   ]
  },
  {
   "cell_type": "code",
   "execution_count": 4,
   "metadata": {},
   "outputs": [
    {
     "data": {
      "text/plain": [
       "x^2 * (x^2 - 30*x - 80)"
      ]
     },
     "execution_count": 4,
     "metadata": {},
     "output_type": "execute_result"
    }
   ],
   "source": [
    "factor(A.charpoly())"
   ]
  },
  {
   "cell_type": "code",
   "execution_count": 6,
   "metadata": {},
   "outputs": [
    {
     "data": {
      "text/plain": [
       "[-3  1]\n",
       "[ 2  3]"
      ]
     },
     "execution_count": 6,
     "metadata": {},
     "output_type": "execute_result"
    }
   ],
   "source": [
    "m = matrix(ZZ, 2, range(4))\n",
    "m[0, 0] = m[0, 0] - 3\n",
    "m"
   ]
  },
  {
   "cell_type": "code",
   "execution_count": 9,
   "metadata": {},
   "outputs": [
    {
     "name": "stdout",
     "output_type": "stream",
     "text": [
      "Elliptic Curve defined by y^2 + x*y + 3*y = x^3 + 2*x^2 + 4*x + 5 over Rational Field\n",
      "[0, 1, 1, 0, -1, -3, 0, -1, -3, -3, -3]\n",
      "1\n"
     ]
    }
   ],
   "source": [
    "E = EllipticCurve([1, 2, 3, 4, 5])\n",
    "print(E)\n",
    "print(E.anlist(10))\n",
    "print(E.rank())"
   ]
  },
  {
   "cell_type": "code",
   "execution_count": 12,
   "metadata": {},
   "outputs": [
    {
     "name": "stdout",
     "output_type": "stream",
     "text": [
      "36/(20*sqrt(73) + 36*I*sqrt(3) + 27)\n",
      "0.165495678130644 - 0.0521492082074256*I\n",
      "0.16549568 - 0.052149208*I\n",
      "\\frac{36}{20 \\, \\sqrt{73} + 36 i \\, \\sqrt{3} + 27}\n"
     ]
    }
   ],
   "source": [
    "k = 1/(sqrt(3)* I + 3/4 + sqrt(73)*5/9); print(k)\n",
    "print(N(k))\n",
    "print(N(k, 30)) # 30 \"bits\"\n",
    "print(latex(k))"
   ]
  },
  {
   "cell_type": "markdown",
   "metadata": {},
   "source": [
    "## from \"A Guided Tour\""
   ]
  },
  {
   "cell_type": "markdown",
   "metadata": {},
   "source": [
    "### Assignment, Equality, and Arithmetic\n",
    "Sage uses `=` for assignment. It uses `==, <=, >=, <, >` for comparison."
   ]
  },
  {
   "cell_type": "code",
   "execution_count": 13,
   "metadata": {},
   "outputs": [
    {
     "name": "stdout",
     "output_type": "stream",
     "text": [
      "5\n",
      "True\n",
      "False\n",
      "True\n",
      "True\n"
     ]
    }
   ],
   "source": [
    "a = 5\n",
    "print(a)\n",
    "print(2 == 2)\n",
    "print(2 == 3)\n",
    "print(2 < 3)\n",
    "print(a == 5)"
   ]
  },
  {
   "cell_type": "code",
   "execution_count": 14,
   "metadata": {},
   "outputs": [
    {
     "name": "stdout",
     "output_type": "stream",
     "text": [
      "8\n",
      "8\n",
      "1\n",
      "5/2\n",
      "2\n"
     ]
    }
   ],
   "source": [
    "print(2**3)\n",
    "print(2^3)\n",
    "print(10 % 3) # ^ is a synonym for ** (unlike in Python)\n",
    "print(10/4)\n",
    "print(10//4) # for integer arguments, % means mod, i.e., remainder"
   ]
  },
  {
   "cell_type": "code",
   "execution_count": null,
   "metadata": {},
   "outputs": [],
   "source": []
  }
 ],
 "metadata": {
  "kernelspec": {
   "display_name": "SageMath 9.2",
   "language": "sage",
   "name": "sagemath"
  },
  "language_info": {
   "codemirror_mode": {
    "name": "ipython",
    "version": 3
   },
   "file_extension": ".py",
   "mimetype": "text/x-python",
   "name": "python",
   "nbconvert_exporter": "python",
   "pygments_lexer": "ipython3",
   "version": "3.8.2"
  }
 },
 "nbformat": 4,
 "nbformat_minor": 4
}
