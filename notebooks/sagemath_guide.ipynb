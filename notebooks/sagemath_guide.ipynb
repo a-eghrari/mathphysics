{
 "cells": [
  {
   "cell_type": "markdown",
   "metadata": {},
   "source": [
    "Sage Tutorial\n",
    "\n",
    "cf. https://doc.sagemath.org/html/en/tutorial/introduction.html"
   ]
  },
  {
   "cell_type": "code",
   "execution_count": 1,
   "metadata": {},
   "outputs": [
    {
     "data": {
      "text/plain": [
       "4"
      ]
     },
     "execution_count": 1,
     "metadata": {},
     "output_type": "execute_result"
    }
   ],
   "source": [
    "2 + 2"
   ]
  },
  {
   "cell_type": "code",
   "execution_count": 2,
   "metadata": {},
   "outputs": [
    {
     "data": {
      "text/plain": [
       "-1 * 3^2 * 223"
      ]
     },
     "execution_count": 2,
     "metadata": {},
     "output_type": "execute_result"
    }
   ],
   "source": [
    "factor(-2007)"
   ]
  },
  {
   "cell_type": "code",
   "execution_count": 3,
   "metadata": {},
   "outputs": [
    {
     "data": {
      "text/plain": [
       "[ 0  1  2  3]\n",
       "[ 4  5  6  7]\n",
       "[ 8  9 10 11]\n",
       "[12 13 14 15]"
      ]
     },
     "execution_count": 3,
     "metadata": {},
     "output_type": "execute_result"
    }
   ],
   "source": [
    "A = matrix(4, 4, range(16)); A"
   ]
  },
  {
   "cell_type": "code",
   "execution_count": 4,
   "metadata": {},
   "outputs": [
    {
     "data": {
      "text/plain": [
       "x^2 * (x^2 - 30*x - 80)"
      ]
     },
     "execution_count": 4,
     "metadata": {},
     "output_type": "execute_result"
    }
   ],
   "source": [
    "factor(A.charpoly())"
   ]
  },
  {
   "cell_type": "code",
   "execution_count": 6,
   "metadata": {},
   "outputs": [
    {
     "data": {
      "text/plain": [
       "[-3  1]\n",
       "[ 2  3]"
      ]
     },
     "execution_count": 6,
     "metadata": {},
     "output_type": "execute_result"
    }
   ],
   "source": [
    "m = matrix(ZZ, 2, range(4))\n",
    "m[0, 0] = m[0, 0] - 3\n",
    "m"
   ]
  },
  {
   "cell_type": "code",
   "execution_count": 9,
   "metadata": {},
   "outputs": [
    {
     "name": "stdout",
     "output_type": "stream",
     "text": [
      "Elliptic Curve defined by y^2 + x*y + 3*y = x^3 + 2*x^2 + 4*x + 5 over Rational Field\n",
      "[0, 1, 1, 0, -1, -3, 0, -1, -3, -3, -3]\n",
      "1\n"
     ]
    }
   ],
   "source": [
    "E = EllipticCurve([1, 2, 3, 4, 5])\n",
    "print(E)\n",
    "print(E.anlist(10))\n",
    "print(E.rank())"
   ]
  },
  {
   "cell_type": "code",
   "execution_count": 12,
   "metadata": {},
   "outputs": [
    {
     "name": "stdout",
     "output_type": "stream",
     "text": [
      "36/(20*sqrt(73) + 36*I*sqrt(3) + 27)\n",
      "0.165495678130644 - 0.0521492082074256*I\n",
      "0.16549568 - 0.052149208*I\n",
      "\\frac{36}{20 \\, \\sqrt{73} + 36 i \\, \\sqrt{3} + 27}\n"
     ]
    }
   ],
   "source": [
    "k = 1/(sqrt(3)* I + 3/4 + sqrt(73)*5/9); print(k)\n",
    "print(N(k))\n",
    "print(N(k, 30)) # 30 \"bits\"\n",
    "print(latex(k))"
   ]
  },
  {
   "cell_type": "markdown",
   "metadata": {},
   "source": [
    "## from \"A Guided Tour\""
   ]
  },
  {
   "cell_type": "markdown",
   "metadata": {},
   "source": [
    "### Assignment, Equality, and Arithmetic\n",
    "Sage uses `=` for assignment. It uses `==, <=, >=, <, >` for comparison."
   ]
  },
  {
   "cell_type": "code",
   "execution_count": 13,
   "metadata": {},
   "outputs": [
    {
     "name": "stdout",
     "output_type": "stream",
     "text": [
      "5\n",
      "True\n",
      "False\n",
      "True\n",
      "True\n"
     ]
    }
   ],
   "source": [
    "a = 5\n",
    "print(a)\n",
    "print(2 == 2)\n",
    "print(2 == 3)\n",
    "print(2 < 3)\n",
    "print(a == 5)"
   ]
  },
  {
   "cell_type": "code",
   "execution_count": 14,
   "metadata": {},
   "outputs": [
    {
     "name": "stdout",
     "output_type": "stream",
     "text": [
      "8\n",
      "8\n",
      "1\n",
      "5/2\n",
      "2\n"
     ]
    }
   ],
   "source": [
    "# Sage provides basic math operations\n",
    "print(2**3)\n",
    "print(2^3)\n",
    "print(10 % 3) # ^ is a synonym for ** (unlike in Python)\n",
    "print(10/4)\n",
    "print(10//4) # for integer arguments, % means mod, i.e., remainder"
   ]
  },
  {
   "cell_type": "code",
   "execution_count": 15,
   "metadata": {},
   "outputs": [
    {
     "name": "stdout",
     "output_type": "stream",
     "text": [
      "1.84390889145858\n",
      "-0.912021158525540\n",
      "1/2*sqrt(3)\n"
     ]
    }
   ],
   "source": [
    "# Many Familiar mathematical functions\n",
    "print(sqrt(3.4))\n",
    "print(sin(5.135))\n",
    "print(sin(pi/3))"
   ]
  },
  {
   "cell_type": "code",
   "execution_count": 17,
   "metadata": {},
   "outputs": [
    {
     "name": "stdout",
     "output_type": "stream",
     "text": [
      "e^2\n",
      "7.38905609893065\n",
      "1.77245385090552\n",
      "-0.54402\n",
      "-0.5440211109\n",
      "3.1415926535897932384626433832795028841971693993751058209749\n"
     ]
    }
   ],
   "source": [
    "# To get numerical approximation use either N, aka numerical_approx,\n",
    "# or method n (function N same as n)\n",
    "# optional arguments:\n",
    "# prec - requested # of bits of precision\n",
    "# digits - requested # of decimal digits of precision, default is 53\n",
    "print(exp(2))\n",
    "print(n(exp(2)))\n",
    "print(sqrt(pi).numerical_approx())\n",
    "print(sin(10).n(digits=5))\n",
    "print(N(sin(10),digits=10))\n",
    "print(numerical_approx(pi, prec=200))"
   ]
  },
  {
   "cell_type": "code",
   "execution_count": 18,
   "metadata": {},
   "outputs": [
    {
     "name": "stdout",
     "output_type": "stream",
     "text": [
      "<class 'sage.rings.integer.Integer'>\n",
      "<class 'sage.rings.rational.Rational'>\n",
      "<class 'str'>\n"
     ]
    }
   ],
   "source": [
    "a = 5 # a is an integer\n",
    "print(type(a))\n",
    "a = 5/3 # now a is a rational number\n",
    "print(type(a))\n",
    "a = 'hello' # now a is a string\n",
    "print(type(a))"
   ]
  },
  {
   "cell_type": "markdown",
   "metadata": {},
   "source": [
    "### Getting Help\n",
    "\n",
    "Access built-in documentation, accessible by typing name of function or constant, followed by question mark"
   ]
  },
  {
   "cell_type": "code",
   "execution_count": 19,
   "metadata": {},
   "outputs": [],
   "source": [
    "tan?"
   ]
  },
  {
   "cell_type": "code",
   "execution_count": null,
   "metadata": {},
   "outputs": [],
   "source": []
  }
 ],
 "metadata": {
  "kernelspec": {
   "display_name": "SageMath 9.2",
   "language": "sage",
   "name": "sagemath"
  },
  "language_info": {
   "codemirror_mode": {
    "name": "ipython",
    "version": 3
   },
   "file_extension": ".py",
   "mimetype": "text/x-python",
   "name": "python",
   "nbconvert_exporter": "python",
   "pygments_lexer": "ipython3",
   "version": "3.8.2"
  }
 },
 "nbformat": 4,
 "nbformat_minor": 4
}
