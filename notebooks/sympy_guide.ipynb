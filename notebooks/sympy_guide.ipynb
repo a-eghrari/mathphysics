{
 "cells": [
  {
   "cell_type": "markdown",
   "metadata": {},
   "source": [
    "# `sympy` guide"
   ]
  },
  {
   "cell_type": "code",
   "execution_count": 1,
   "metadata": {},
   "outputs": [
    {
     "name": "stdout",
     "output_type": "stream",
     "text": [
      "1.7\n"
     ]
    }
   ],
   "source": [
    "import sympy\n",
    "print(sympy.__version__)"
   ]
  },
  {
   "cell_type": "code",
   "execution_count": 2,
   "metadata": {},
   "outputs": [
    {
     "name": "stdout",
     "output_type": "stream",
     "text": [
      "2*sqrt(2)\n",
      "sqrt(3)\n",
      "x + 2*y\n",
      "x + 2*y + 1\n",
      "2*y\n",
      "x*(x + 2*y)\n"
     ]
    }
   ],
   "source": [
    "# Symbolic computation is with symbols, not numerical values\n",
    "print(sympy.sqrt(8))\n",
    "print(sympy.sqrt(3))\n",
    "\n",
    "from sympy import symbols\n",
    "x, y = symbols('x y')\n",
    "expr = x + 2*y\n",
    "print(expr)\n",
    "print(expr + 1)\n",
    "print(expr - x) # Simplified when possible; in this case to 2*y\n",
    "print(x * expr)\n",
    "\n",
    "from sympy import expand, factor\n",
    "expanded_expr = expand(x*expr)\n",
    "print(expanded_expr)\n",
    "print(factor(expanded_expr))"
   ]
  },
  {
   "cell_type": "code",
   "execution_count": null,
   "metadata": {},
   "outputs": [],
   "source": []
  }
 ],
 "metadata": {
  "kernelspec": {
   "display_name": "Python 3",
   "language": "python",
   "name": "python3"
  },
  "language_info": {
   "codemirror_mode": {
    "name": "ipython",
    "version": 3
   },
   "file_extension": ".py",
   "mimetype": "text/x-python",
   "name": "python",
   "nbconvert_exporter": "python",
   "pygments_lexer": "ipython3",
   "version": "3.7.7"
  }
 },
 "nbformat": 4,
 "nbformat_minor": 2
}
